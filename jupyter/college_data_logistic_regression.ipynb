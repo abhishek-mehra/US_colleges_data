{
 "cells": [
  {
   "cell_type": "code",
   "execution_count": 126,
   "id": "a97ff773-c917-41d4-ad5e-7e3758c6cf71",
   "metadata": {
    "tags": []
   },
   "outputs": [
    {
     "ename": "SyntaxError",
     "evalue": "invalid syntax (41479767.py, line 89)",
     "output_type": "error",
     "traceback": [
      "\u001b[1;36m  Cell \u001b[1;32mIn[126], line 89\u001b[1;36m\u001b[0m\n\u001b[1;33m    Our model with three features was able to produce and AUC of 0.84 which is an above average score\u001b[0m\n\u001b[1;37m        ^\u001b[0m\n\u001b[1;31mSyntaxError\u001b[0m\u001b[1;31m:\u001b[0m invalid syntax\n"
     ]
    }
   ],
   "source": [
    "import numpy as np  \n",
    "import pandas as pd\n",
    "from sklearn.model_selection import train_test_split\n",
    "from sklearn.linear_model import LogisticRegression\n",
    "from sklearn.metrics import confusion_matrix,classification_report,roc_auc_score, ConfusionMatrixDisplay, roc_curve\n",
    "from matplotlib import pyplot as plt\n",
    "import seaborn as sns\n",
    "import openpyxl\n",
    "\n",
    "\n",
    "#### EDA\n",
    "\n",
    "college_dataset = pd.read_csv('../us_college_data/College.csv') #reading  the college file\n",
    "college_dataset.rename(columns={'Unnamed: 0':'college'},inplace=True) #renaming unmaned column as college\n",
    "\n",
    "\n",
    "college_dataset.head()  #firt look at the dataframe\n",
    "\n",
    "\n",
    "college_dataset.shape  #looking at the shape of the dataset\n",
    "\n",
    "college_dataset.describe()\n",
    "\n",
    "# distribution of private and public schools\n",
    "college_dataset['Private'].describe()\n",
    "\n",
    "plt.figure(figsize=(5,5))\n",
    "sns.countplot(x=college_dataset['Private'])\n",
    "plt.savefig('countplot_private')\n",
    "\n",
    "a = college_dataset[['Apps','Accept','Enroll']].describe()\n",
    "college_dataset[['Apps','Accept','Enroll']].describe().T\n",
    "\n",
    "\n",
    "\n",
    "\n",
    "table = a.style.set_table_attributes(\"style='display:inline'\").set_caption('Summary Statistics')\n",
    "\n",
    "table.to_excel(\"save.xlsx\")\n",
    "\n",
    "# a table to put in report to show summary characteristics.\n",
    "college_wise_accept = college_dataset.groupby(['college'])[['Apps','Accept','Enroll',]].mean().sort_values(by='Apps',ascending=False)\n",
    "college_wise_accept = college_wise_accept.head(4).append(college_wise_accept.tail(4))\n",
    "table = college_wise_accept.style.set_table_attributes(\"style='display:inline'\").set_caption('Summary Statistics')\n",
    "\n",
    "table.to_excel(\"college_wise_accept.xlsx\")\n",
    "\n",
    "#### Data preparation\n",
    "\n",
    "#### divinding into train and test set\n",
    "X = college_dataset.drop(['Private','college'],axis =1) #dropping dependent variable and name of college\n",
    "y = college_dataset['Private']  #setting the dependent variable\n",
    "y = y.map({'Yes':1, 'No':0})  #converting to zeros and ones for the machine to understand\n",
    "X_train, X_test, y_train, y_test = train_test_split(X,y)  #80:20 split between train and test\n",
    "\n",
    "\n",
    "X_train.shape, X_test.shape, y_train.shape, y_test.shape  # checking the shape of the train and test\n",
    "\n",
    "lr = LogisticRegression()  #intialising object for logistic regression\n",
    "\n",
    "lr.fit(X_train[['Expend','Apps','Grad.Rate']],y_train)   # fitting \n",
    "\n",
    "predictions = lr.predict(X_test[['Expend','Apps','Grad.Rate',]])\n",
    "\n",
    "confusion_matrix(y_test,predictions)\n",
    "\n",
    "ConfusionMatrixDisplay(confusion_matrix(y_test,predictions)).plot()\n",
    "plt.savefig(\"confusion matrix\")\n",
    "\n",
    "plt.show()\n",
    "\n",
    "print(classification_report(y_test,predictions))\n",
    "\n",
    "roc_auc_score(y_test,predictions)\n",
    "\n",
    "predictions_probability = lr.predict_proba(X_test[['Expend','Apps','Grad.Rate']])[::,1]\n",
    "fpr, tpr, _ = roc_curve(y_test,  predictions_probability)\n",
    "auc_score = roc_auc_score(y_test,predictions)\n",
    "\n",
    "#create ROC curve\n",
    "plt.plot(fpr,tpr, label=\"AUC\"+str(auc_score))\n",
    "plt.ylabel('True Positive Rate')\n",
    "plt.xlabel('False Positive Rate')\n",
    "plt.legend(loc=4)\n",
    "plt.savefig('roc_curve')\n",
    "plt.show()\n",
    "\n",
    "\n",
    "# Our model with three features was able to produce and AUC of 0.84 which is an above average score"
   ]
  },
  {
   "cell_type": "code",
   "execution_count": null,
   "id": "0b963291-5ef8-4443-a55e-5199ae8e6d0f",
   "metadata": {},
   "outputs": [],
   "source": []
  }
 ],
 "metadata": {
  "kernelspec": {
   "display_name": "Python 3 (ipykernel)",
   "language": "python",
   "name": "python3"
  },
  "language_info": {
   "codemirror_mode": {
    "name": "ipython",
    "version": 3
   },
   "file_extension": ".py",
   "mimetype": "text/x-python",
   "name": "python",
   "nbconvert_exporter": "python",
   "pygments_lexer": "ipython3",
   "version": "3.10.1"
  },
  "vscode": {
   "interpreter": {
    "hash": "519ea2b9fd6e05cb4cf7f2ad5305e0f7782f1ea1cb46792dcc089311e7db13fb"
   }
  }
 },
 "nbformat": 4,
 "nbformat_minor": 5
}
